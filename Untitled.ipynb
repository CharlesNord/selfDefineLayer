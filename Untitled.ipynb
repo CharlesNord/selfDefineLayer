{
 "cells": [
  {
   "cell_type": "markdown",
   "metadata": {},
   "source": [
    "# Pytorch 自定义层\n",
    "\n",
    "\n",
    "单纯地自定义层很简单，只需要像定义普通网络结构那样，继承 `torch.nn.Module`，然后再定义一下`forward`函数就可以了，基于自动求导机制，`backward`函数会自动求出，不需要程序员自己编写。这大大简化了开发流程，帮助研究人员跳过了复杂繁琐的求导步骤，例如这个 Group Normalization 的[实现](https://github.com/kuangliu/pytorch-groupnorm/blob/master/groupnorm.py)。\n",
    "\n",
    "但是 pytroch 同时也保留了自定义反向传播函数的接口，研究人员也可以自定义某个函数的反向传播函数。本文通过实现 PReLU 来介绍如何通过 pytorch 自定义反向传播函数。"
   ]
  },
  {
   "cell_type": "markdown",
   "metadata": {},
   "source": [
    "## PReLU 原理\n",
    "\n",
    "公式为：\n",
    "\n",
    "$$\n",
    "f(y_i)=\\begin{cases}\n",
    "y_i, & \\text{if}\\ y_i>0\\\\\n",
    "a_iy_i, & \\text{if}\\ y_i\\leq0\n",
    "\\end{cases}\n",
    "$$\n",
    "\n",
    "它和 LeakyReLU 很像，区别在于，LeakyReLU 的 $a_i$ 是人为设定的，而 PReLU 的 $a_i$ 是网络的参数，可以通过学习得到。"
   ]
  },
  {
   "cell_type": "markdown",
   "metadata": {},
   "source": [
    "## PReLU 实现\n",
    "\n",
    "自定义反向传播的层，主要分为两步：\n",
    "* 定义反向传播函数\n",
    "* 定义层\n",
    "\n",
    "下面首先来定义一个反向传播函数，这是自定义层的核心。"
   ]
  },
  {
   "cell_type": "code",
   "execution_count": 1,
   "metadata": {},
   "outputs": [],
   "source": [
    "# 先导入函数库\n",
    "import torch\n",
    "from torch.autograd import Function # 用于自定义函数\n",
    "from torch.nn import Module # 用于自定义层\n",
    "from torch.nn.parameter import Parameter # 用于指定层里面需要学习的参数"
   ]
  },
  {
   "cell_type": "code",
   "execution_count": 2,
   "metadata": {},
   "outputs": [],
   "source": [
    "class My_prelu(Function):\n",
    "    @staticmethod\n",
    "    def forward(ctx, my_input, p):\n",
    "        mask = (my_input>0).type(my_input.type())\n",
    "        ctx.save_for_backward(my_input, p, mask)\n",
    "        result = my_input*mask+my_input*(1-mask)*p\n",
    "        return my_input.new(result)\n",
    "    \n",
    "    @staticmethod\n",
    "    def backward(ctx, grad_output):\n",
    "        my_input, p, mask = ctx.saved_tensors\n",
    "        grad_input = (mask+(1-mask)*p)*grad_output\n",
    "        grad_p = ((1-mask)*grad_output*my_input).sum()\n",
    "        return grad_output.new_tensor(grad_input), grad_output.new_tensor(grad_p)\n",
    "    "
   ]
  },
  {
   "cell_type": "markdown",
   "metadata": {},
   "source": [
    "上面就定义好一个函数和它的反向传播函数了，接下来调用一下，看看结果："
   ]
  },
  {
   "cell_type": "code",
   "execution_count": 3,
   "metadata": {},
   "outputs": [],
   "source": [
    "x = torch.randn(2, 3, requires_grad=True)\n",
    "y = torch.randn(2, 3, requires_grad=True)\n",
    "p = torch.tensor(0.5, requires_grad=True)\n",
    "prelu = My_prelu.apply # 调用自定义的函数需要用 .apply\n",
    "y_pred = prelu(x, p)\n",
    "loss = (y_pred-y).pow(2).sum()\n",
    "loss.backward()"
   ]
  },
  {
   "cell_type": "code",
   "execution_count": 4,
   "metadata": {},
   "outputs": [
    {
     "name": "stdout",
     "output_type": "stream",
     "text": [
      "tensor([[ 2.0435,  0.3144, -1.6673],\n",
      "        [-0.6960,  2.3220,  0.4867]])\n",
      "tensor([[-2.0435, -0.3144,  3.3347],\n",
      "        [ 0.6960, -2.3220, -0.9733]])\n",
      "tensor(2.5853)\n"
     ]
    }
   ],
   "source": [
    "print(x.grad)\n",
    "print(y.grad)\n",
    "print(p.grad)"
   ]
  },
  {
   "cell_type": "markdown",
   "metadata": {},
   "source": [
    "下一步，我们不妨采用pytorch的自动求导机制，只计算前向过程，然后看它自动求导得到的梯度是否和我们实现的版本的梯度相同："
   ]
  },
  {
   "cell_type": "code",
   "execution_count": 5,
   "metadata": {},
   "outputs": [
    {
     "name": "stdout",
     "output_type": "stream",
     "text": [
      "tensor([[ 2.0435,  0.3144, -1.6673],\n",
      "        [-0.6960,  2.3220,  0.4867]])\n",
      "tensor([[-2.0435, -0.3144,  3.3347],\n",
      "        [ 0.6960, -2.3220, -0.9733]])\n",
      "tensor(2.5853)\n"
     ]
    }
   ],
   "source": [
    "# 先把这些变量的梯度清零，否则的话梯度会累加\n",
    "x.grad.zero_()\n",
    "y.grad.zero_()\n",
    "p.grad.zero_()\n",
    "\n",
    "# 接下来按 forward pass 的步骤执行\n",
    "mask = (x>0).type(torch.FloatTensor)\n",
    "y_pred = x*mask+x*(1-mask)*p\n",
    "loss = (y_pred-y).pow(2).sum()\n",
    "loss.backward()\n",
    "print(x.grad)\n",
    "print(y.grad)\n",
    "print(p.grad)"
   ]
  },
  {
   "cell_type": "markdown",
   "metadata": {},
   "source": [
    "果然和前面自己实现的反向传播算法一致。之所以pytorch有强大的autograd功能，还要自己实现某些反向传播算法，主要是因为，有时候不想严格遵循求导规则，而想对导数做一些修改。\n",
    "\n",
    "接下来基于上面的函数，实现自定义层。"
   ]
  },
  {
   "cell_type": "code",
   "execution_count": 6,
   "metadata": {},
   "outputs": [],
   "source": [
    "class PReLU(Module):\n",
    "    def __init__(self):\n",
    "        super(PReLU, self).__init__()\n",
    "        device = torch.device('cuda:0' if torch.cuda.is_available() else \"cpu\")\n",
    "        self.p = Parameter(torch.tensor(0.25).to(device))\n",
    "    def forward(self, x):\n",
    "        return My_prelu.apply(x, self.p)"
   ]
  },
  {
   "cell_type": "markdown",
   "metadata": {},
   "source": [
    "这样一个新的模块就定义完成了，下面用这个模块写一个卷及神经网络，用于手写数字识别。\n",
    "\n",
    "首先做一些基础性的工作，导入必要的函数库，导入数据集等。"
   ]
  },
  {
   "cell_type": "code",
   "execution_count": 7,
   "metadata": {},
   "outputs": [],
   "source": [
    "from torch import nn\n",
    "import torchvision\n",
    "import torchvision.transforms as transforms\n",
    "import torch.utils.data as Data"
   ]
  },
  {
   "cell_type": "code",
   "execution_count": 8,
   "metadata": {},
   "outputs": [],
   "source": [
    "trainset = torchvision.datasets.MNIST(root='/home/xn/PycharmProjects/mnist',\n",
    "                                     train=True, download=False,\n",
    "                                     transform=transforms.ToTensor())\n",
    "testset = torchvision.datasets.MNIST(root='/home/xn/PycharmProjects/mnist',\n",
    "                                    train=False, download=False,\n",
    "                                    transform=transforms.ToTensor())\n",
    "\n",
    "trainloader = Data.DataLoader(dataset=trainset, batch_size=32, shuffle=True, num_workers=4)\n",
    "testloader = Data.DataLoader(dataset=testset, batch_size=32, shuffle=True, num_workers=4)\n"
   ]
  },
  {
   "cell_type": "markdown",
   "metadata": {},
   "source": [
    "接下来构建网络"
   ]
  },
  {
   "cell_type": "code",
   "execution_count": 9,
   "metadata": {},
   "outputs": [],
   "source": [
    "class PReLUModel(Module):\n",
    "    def __init__(self):\n",
    "        super(PReLUModel, self).__init__()\n",
    "        self.conv=torch.nn.Sequential(\n",
    "            nn.Conv2d(in_channels=1, out_channels=16, kernel_size=3, stride=1, padding=1),\n",
    "            nn.BatchNorm2d(num_features=16),\n",
    "            PReLU(),\n",
    "            nn.MaxPool2d(2, 2),\n",
    "            nn.Conv2d(16,32,3,1,1),\n",
    "            nn.BatchNorm2d(num_features=32),\n",
    "            PReLU(),\n",
    "            nn.MaxPool2d(2,2),\n",
    "            nn.Conv2d(32, 64, 3, 1),\n",
    "            nn.BatchNorm2d(num_features=64),\n",
    "            PReLU()\n",
    "        )\n",
    "        self.fc1 = nn.Linear(64*5*5, 120)\n",
    "        self.fc2 = nn.Linear(120, 10)\n",
    "    \n",
    "    def forward(self, x):\n",
    "        feat = self.conv(x)\n",
    "        feat_flatten = feat.view(feat.size(0), -1)\n",
    "        x = self.fc1(feat_flatten)\n",
    "        x = self.fc2(x)\n",
    "        return x\n"
   ]
  },
  {
   "cell_type": "markdown",
   "metadata": {},
   "source": [
    "确定损失函数和优化器"
   ]
  },
  {
   "cell_type": "code",
   "execution_count": 17,
   "metadata": {},
   "outputs": [],
   "source": [
    "device = torch.device('cuda:0' if torch.cuda.is_available() else \"cpu\")\n",
    "criterion = nn.CrossEntropyLoss()\n",
    "net = PReLUModel()\n",
    "net.to(device)\n",
    "optimizer = torch.optim.Adam(net.parameters(), lr=1e-4)"
   ]
  },
  {
   "cell_type": "code",
   "execution_count": 18,
   "metadata": {},
   "outputs": [],
   "source": [
    "def train(epoch):\n",
    "    running_loss = 0.0\n",
    "    running_corrects = 0\n",
    "    for step, (batch_x, batch_y) in enumerate(trainloader):\n",
    "        batch_x = batch_x.to(device)\n",
    "        batch_y = batch_y.to(device)\n",
    "        with torch.set_grad_enabled(True):\n",
    "            out_y = net(batch_x)\n",
    "            _, pred_y = torch.max(out_y, 1)\n",
    "            loss = criterion(out_y, batch_y)\n",
    "            optimizer.zero_grad()\n",
    "            loss.backward()\n",
    "            optimizer.step()\n",
    "        \n",
    "        running_loss += loss.item()*batch_x.size(0)\n",
    "        running_corrects += torch.sum(pred_y==batch_y.detach())\n",
    "        if step%200==199:\n",
    "            print('Epoch: {}\\t Step:{}\\t Loss:{}'.format(epoch, step, loss.item()))\n",
    "    epoch_loss = running_loss*1.0/len(trainset)\n",
    "    epoch_acc = running_corrects.double()/len(trainset)\n",
    "    print('Train: Epoch: {}\\t Loss: {}\\t Acc: {}'.format(epoch, epoch_loss, epoch_acc))\n",
    "    \n",
    "\n",
    "def test(epoch):\n",
    "    running_loss = 0.0\n",
    "    running_corrects = 0\n",
    "    net.eval()\n",
    "    for step, (batch_x, batch_y) in enumerate(testloader):\n",
    "        batch_x = batch_x.to(device)\n",
    "        batch_y = batch_y.to(device)\n",
    "        with torch.set_grad_enabled(False):\n",
    "            out_y = net(batch_x)\n",
    "            _, pred_y = torch.max(out_y, 1)\n",
    "            loss = criterion(out_y, batch_y)\n",
    "        \n",
    "        running_loss += loss.item()*batch_x.size(0)\n",
    "        running_corrects += torch.sum(pred_y==batch_y.detach())\n",
    "    \n",
    "    epoch_loss = running_loss * 1.0 / len(testset)\n",
    "    epoch_acc = running_corrects.double() / len(testset)\n",
    "    print('Validation: Epoch: {}\\t Loss: {}\\t Acc: {}'.format(epoch, epoch_loss, epoch_acc))\n",
    "    print('-*'*20)\n",
    "    return epoch_acc\n",
    "    "
   ]
  },
  {
   "cell_type": "code",
   "execution_count": 19,
   "metadata": {},
   "outputs": [
    {
     "name": "stdout",
     "output_type": "stream",
     "text": [
      "Epoch: 0\t Step:199\t Loss:0.4172237515449524\n",
      "Epoch: 0\t Step:399\t Loss:0.2620741128921509\n",
      "Epoch: 0\t Step:599\t Loss:0.14673155546188354\n",
      "Epoch: 0\t Step:799\t Loss:0.1295676827430725\n",
      "Epoch: 0\t Step:999\t Loss:0.07802772521972656\n",
      "Epoch: 0\t Step:1199\t Loss:0.09356217086315155\n",
      "Epoch: 0\t Step:1399\t Loss:0.030297547578811646\n",
      "Epoch: 0\t Step:1599\t Loss:0.10827292501926422\n",
      "Epoch: 0\t Step:1799\t Loss:0.03904447704553604\n",
      "Train: Epoch: 0\t Loss: 0.20876683580875396\t Acc: 0.9492833333333334\n",
      "Validation: Epoch: 0\t Loss: 0.05622101366519928\t Acc: 0.9831000000000001\n",
      "-*-*-*-*-*-*-*-*-*-*-*-*-*-*-*-*-*-*-*-*\n",
      "Epoch: 1\t Step:199\t Loss:0.041422247886657715\n",
      "Epoch: 1\t Step:399\t Loss:0.020320072770118713\n",
      "Epoch: 1\t Step:599\t Loss:0.01525658369064331\n",
      "Epoch: 1\t Step:799\t Loss:0.0606076717376709\n",
      "Epoch: 1\t Step:999\t Loss:0.012219369411468506\n",
      "Epoch: 1\t Step:1199\t Loss:0.08285488188266754\n",
      "Epoch: 1\t Step:1399\t Loss:0.16755130887031555\n",
      "Epoch: 1\t Step:1599\t Loss:0.03559859097003937\n",
      "Epoch: 1\t Step:1799\t Loss:0.004409775137901306\n",
      "Train: Epoch: 1\t Loss: 0.05612174690167109\t Acc: 0.9822333333333334\n",
      "Validation: Epoch: 1\t Loss: 0.0429456306219101\t Acc: 0.9859\n",
      "-*-*-*-*-*-*-*-*-*-*-*-*-*-*-*-*-*-*-*-*\n",
      "Epoch: 2\t Step:199\t Loss:0.007473275065422058\n",
      "Epoch: 2\t Step:399\t Loss:0.04450958967208862\n",
      "Epoch: 2\t Step:599\t Loss:0.03863435983657837\n",
      "Epoch: 2\t Step:799\t Loss:0.04821258783340454\n",
      "Epoch: 2\t Step:999\t Loss:0.04558424651622772\n",
      "Epoch: 2\t Step:1199\t Loss:0.03284914791584015\n",
      "Epoch: 2\t Step:1399\t Loss:0.021520361304283142\n",
      "Epoch: 2\t Step:1599\t Loss:0.002799287438392639\n",
      "Epoch: 2\t Step:1799\t Loss:0.004718288779258728\n",
      "Train: Epoch: 2\t Loss: 0.041001152245203655\t Acc: 0.9871833333333334\n",
      "Validation: Epoch: 2\t Loss: 0.03742764220237732\t Acc: 0.9876\n",
      "-*-*-*-*-*-*-*-*-*-*-*-*-*-*-*-*-*-*-*-*\n",
      "Epoch: 3\t Step:199\t Loss:0.016881078481674194\n",
      "Epoch: 3\t Step:399\t Loss:0.04611431062221527\n",
      "Epoch: 3\t Step:599\t Loss:0.16162937879562378\n",
      "Epoch: 3\t Step:799\t Loss:0.02940957248210907\n",
      "Epoch: 3\t Step:999\t Loss:0.06363004446029663\n",
      "Epoch: 3\t Step:1199\t Loss:0.014203876256942749\n",
      "Epoch: 3\t Step:1399\t Loss:0.011372044682502747\n",
      "Epoch: 3\t Step:1599\t Loss:0.18344947695732117\n",
      "Epoch: 3\t Step:1799\t Loss:0.010243147611618042\n",
      "Train: Epoch: 3\t Loss: 0.03266381102800369\t Acc: 0.9896166666666667\n",
      "Validation: Epoch: 3\t Loss: 0.03178400647640228\t Acc: 0.9900000000000001\n",
      "-*-*-*-*-*-*-*-*-*-*-*-*-*-*-*-*-*-*-*-*\n",
      "Epoch: 4\t Step:199\t Loss:0.046231359243392944\n",
      "Epoch: 4\t Step:399\t Loss:0.0018810033798217773\n",
      "Epoch: 4\t Step:599\t Loss:0.06828480958938599\n",
      "Epoch: 4\t Step:799\t Loss:0.0189211368560791\n",
      "Epoch: 4\t Step:999\t Loss:0.024525731801986694\n",
      "Epoch: 4\t Step:1199\t Loss:0.08036969602108002\n",
      "Epoch: 4\t Step:1399\t Loss:0.13516375422477722\n",
      "Epoch: 4\t Step:1599\t Loss:0.035170912742614746\n",
      "Epoch: 4\t Step:1799\t Loss:0.034459322690963745\n",
      "Train: Epoch: 4\t Loss: 0.026054461139440536\t Acc: 0.99185\n",
      "Validation: Epoch: 4\t Loss: 0.03005385174751282\t Acc: 0.9902000000000001\n",
      "-*-*-*-*-*-*-*-*-*-*-*-*-*-*-*-*-*-*-*-*\n",
      "Training complete in 1m 23s\n"
     ]
    },
    {
     "data": {
      "text/plain": [
       "[<matplotlib.lines.Line2D at 0x7f6d3404e240>]"
      ]
     },
     "execution_count": 19,
     "metadata": {},
     "output_type": "execute_result"
    },
    {
     "data": {
      "image/png": "[encoded data removed]",
      "text/plain": [
       "<Figure size 432x288 with 1 Axes>"
      ]
     },
     "metadata": {},
     "output_type": "display_data"
    }
   ],
   "source": [
    "import matplotlib.pyplot as plt\n",
    "import time\n",
    "\n",
    "acc_log = []\n",
    "since = time.time()\n",
    "for epoch in range(5):\n",
    "    train(epoch)\n",
    "    acc = test(epoch)\n",
    "    acc_log.append(acc)\n",
    "\n",
    "\n",
    "time_elapsed = time.time()-since\n",
    "print('Training complete in {:.0f}m {:.0f}s'.format(time_elapsed // 60, time_elapsed % 60))\n",
    "\n",
    "plt.plot(acc_log)"
   ]
  },
  {
   "cell_type": "markdown",
   "metadata": {},
   "source": [
    "看一下训练完成后 PReLU 参数有没有发生变化："
   ]
  },
  {
   "cell_type": "code",
   "execution_count": 28,
   "metadata": {},
   "outputs": [],
   "source": [
    "l=list(list(net.children())[0].children())"
   ]
  },
  {
   "cell_type": "code",
   "execution_count": 29,
   "metadata": {},
   "outputs": [
    {
     "data": {
      "text/plain": [
       "[Conv2d(1, 16, kernel_size=(3, 3), stride=(1, 1), padding=(1, 1)),\n",
       " BatchNorm2d(16, eps=1e-05, momentum=0.1, affine=True, track_running_stats=True),\n",
       " PReLU(),\n",
       " MaxPool2d(kernel_size=2, stride=2, padding=0, dilation=1, ceil_mode=False),\n",
       " Conv2d(16, 32, kernel_size=(3, 3), stride=(1, 1), padding=(1, 1)),\n",
       " BatchNorm2d(32, eps=1e-05, momentum=0.1, affine=True, track_running_stats=True),\n",
       " PReLU(),\n",
       " MaxPool2d(kernel_size=2, stride=2, padding=0, dilation=1, ceil_mode=False),\n",
       " Conv2d(32, 64, kernel_size=(3, 3), stride=(1, 1)),\n",
       " BatchNorm2d(64, eps=1e-05, momentum=0.1, affine=True, track_running_stats=True),\n",
       " PReLU()]"
      ]
     },
     "execution_count": 29,
     "metadata": {},
     "output_type": "execute_result"
    }
   ],
   "source": [
    "l"
   ]
  },
  {
   "cell_type": "code",
   "execution_count": 32,
   "metadata": {},
   "outputs": [
    {
     "name": "stdout",
     "output_type": "stream",
     "text": [
      "[Parameter containing:\n",
      "tensor(0.2375, device='cuda:0')]\n",
      "[Parameter containing:\n",
      "tensor(0.2096, device='cuda:0')]\n",
      "[Parameter containing:\n",
      "tensor(0.2136, device='cuda:0')]\n"
     ]
    }
   ],
   "source": [
    "print(list(l[2].parameters()))\n",
    "print(list(l[6].parameters()))\n",
    "print(list(l[10].parameters()))"
   ]
  },
  {
   "cell_type": "markdown",
   "metadata": {},
   "source": [
    "果然参数都不是初始状态的 0.25 了，说明变化了一些。\n",
    "\n",
    "接下来作为对比，把其中的 PReLU 换成 ReLU，重新训练一遍："
   ]
  },
  {
   "cell_type": "code",
   "execution_count": 16,
   "metadata": {},
   "outputs": [
    {
     "name": "stdout",
     "output_type": "stream",
     "text": [
      "Epoch: 0\t Step:199\t Loss:0.5245933532714844\n",
      "Epoch: 0\t Step:399\t Loss:0.20016305148601532\n",
      "Epoch: 0\t Step:599\t Loss:0.10902845859527588\n",
      "Epoch: 0\t Step:799\t Loss:0.1276290863752365\n",
      "Epoch: 0\t Step:999\t Loss:0.03934168815612793\n",
      "Epoch: 0\t Step:1199\t Loss:0.03787617385387421\n",
      "Epoch: 0\t Step:1399\t Loss:0.2549019455909729\n",
      "Epoch: 0\t Step:1599\t Loss:0.0651196762919426\n",
      "Epoch: 0\t Step:1799\t Loss:0.004516184329986572\n",
      "Train: Epoch: 0\t Loss: 0.22694863260189693\t Acc: 0.9489166666666667\n",
      "Validation: Epoch: 0\t Loss: 0.05343929860591889\t Acc: 0.9837\n",
      "-*-*-*-*-*-*-*-*-*-*-*-*-*-*-*-*-*-*-*-*\n",
      "Epoch: 1\t Step:199\t Loss:0.31633099913597107\n",
      "Epoch: 1\t Step:399\t Loss:0.026784896850585938\n",
      "Epoch: 1\t Step:599\t Loss:0.08679740130901337\n",
      "Epoch: 1\t Step:799\t Loss:0.06306007504463196\n",
      "Epoch: 1\t Step:999\t Loss:0.009652793407440186\n",
      "Epoch: 1\t Step:1199\t Loss:0.09728488326072693\n",
      "Epoch: 1\t Step:1399\t Loss:0.014978870749473572\n",
      "Epoch: 1\t Step:1599\t Loss:0.013084322214126587\n",
      "Epoch: 1\t Step:1799\t Loss:0.05051878094673157\n",
      "Train: Epoch: 1\t Loss: 0.05007631752093633\t Acc: 0.9847\n",
      "Validation: Epoch: 1\t Loss: 0.034634309697151186\t Acc: 0.9887\n",
      "-*-*-*-*-*-*-*-*-*-*-*-*-*-*-*-*-*-*-*-*\n",
      "Epoch: 2\t Step:199\t Loss:0.10180562734603882\n",
      "Epoch: 2\t Step:399\t Loss:0.04646666347980499\n",
      "Epoch: 2\t Step:599\t Loss:0.04222729802131653\n",
      "Epoch: 2\t Step:799\t Loss:0.008767634630203247\n",
      "Epoch: 2\t Step:999\t Loss:0.0006467700004577637\n",
      "Epoch: 2\t Step:1199\t Loss:0.13621728122234344\n",
      "Epoch: 2\t Step:1399\t Loss:0.027194827795028687\n",
      "Epoch: 2\t Step:1599\t Loss:0.06078895926475525\n",
      "Epoch: 2\t Step:1799\t Loss:0.019438743591308594\n",
      "Train: Epoch: 2\t Loss: 0.03540399046341578\t Acc: 0.98945\n",
      "Validation: Epoch: 2\t Loss: 0.029402029514312745\t Acc: 0.9903000000000001\n",
      "-*-*-*-*-*-*-*-*-*-*-*-*-*-*-*-*-*-*-*-*\n",
      "Epoch: 3\t Step:199\t Loss:0.008035436272621155\n",
      "Epoch: 3\t Step:399\t Loss:0.0028610527515411377\n",
      "Epoch: 3\t Step:599\t Loss:0.011298000812530518\n",
      "Epoch: 3\t Step:799\t Loss:0.0809372216463089\n",
      "Epoch: 3\t Step:999\t Loss:0.0019717812538146973\n",
      "Epoch: 3\t Step:1199\t Loss:0.02417445182800293\n",
      "Epoch: 3\t Step:1399\t Loss:0.013687118887901306\n",
      "Epoch: 3\t Step:1599\t Loss:0.023328781127929688\n",
      "Epoch: 3\t Step:1799\t Loss:0.07768489420413971\n",
      "Train: Epoch: 3\t Loss: 0.02752735797961553\t Acc: 0.9914833333333334\n",
      "Validation: Epoch: 3\t Loss: 0.026935339784622193\t Acc: 0.9913000000000001\n",
      "-*-*-*-*-*-*-*-*-*-*-*-*-*-*-*-*-*-*-*-*\n",
      "Epoch: 4\t Step:199\t Loss:0.029878124594688416\n",
      "Epoch: 4\t Step:399\t Loss:0.0010164380073547363\n",
      "Epoch: 4\t Step:599\t Loss:0.023040205240249634\n",
      "Epoch: 4\t Step:799\t Loss:0.11902274191379547\n",
      "Epoch: 4\t Step:999\t Loss:0.0032656192779541016\n",
      "Epoch: 4\t Step:1199\t Loss:0.0040120929479599\n",
      "Epoch: 4\t Step:1399\t Loss:0.006043478846549988\n",
      "Epoch: 4\t Step:1599\t Loss:0.007668673992156982\n",
      "Epoch: 4\t Step:1799\t Loss:0.001585632562637329\n",
      "Train: Epoch: 4\t Loss: 0.022028636050224305\t Acc: 0.9927333333333334\n",
      "Validation: Epoch: 4\t Loss: 0.02631000998020172\t Acc: 0.9917\n",
      "-*-*-*-*-*-*-*-*-*-*-*-*-*-*-*-*-*-*-*-*\n",
      "Training complete in 0m 58s\n"
     ]
    },
    {
     "data": {
      "text/plain": [
       "[<matplotlib.lines.Line2D at 0x7f6d2c55f6a0>]"
      ]
     },
     "execution_count": 16,
     "metadata": {},
     "output_type": "execute_result"
    },
    {
     "data": {
      "image/png": "[encoded data removed]",
      "text/plain": [
       "<Figure size 432x288 with 1 Axes>"
      ]
     },
     "metadata": {},
     "output_type": "display_data"
    }
   ],
   "source": [
    "class ReLUModel(Module):\n",
    "    def __init__(self):\n",
    "        super(ReLUModel, self).__init__()\n",
    "        self.conv=torch.nn.Sequential(\n",
    "            nn.Conv2d(in_channels=1, out_channels=16, kernel_size=3, stride=1, padding=1),\n",
    "            nn.BatchNorm2d(num_features=16),\n",
    "            nn.ReLU(),\n",
    "            nn.MaxPool2d(2, 2),\n",
    "            nn.Conv2d(16,32,3,1,1),\n",
    "            nn.BatchNorm2d(num_features=32),\n",
    "            nn.ReLU(),\n",
    "            nn.MaxPool2d(2,2),\n",
    "            nn.Conv2d(32, 64, 3, 1),\n",
    "            nn.BatchNorm2d(num_features=64),\n",
    "            nn.ReLU()\n",
    "        )\n",
    "        self.fc1 = nn.Linear(64*5*5, 120)\n",
    "        self.fc2 = nn.Linear(120, 10)\n",
    "    \n",
    "    def forward(self, x):\n",
    "        feat = self.conv(x)\n",
    "        feat_flatten = feat.view(feat.size(0), -1)\n",
    "        x = self.fc1(feat_flatten)\n",
    "        x = self.fc2(x)\n",
    "        return x\n",
    "\n",
    "net = ReLUModel()\n",
    "net.to(device)\n",
    "optimizer = torch.optim.Adam(net.parameters(), lr=1e-4)\n",
    "\n",
    "acc_log = []\n",
    "since = time.time()\n",
    "for epoch in range(5):\n",
    "    train(epoch)\n",
    "    acc = test(epoch)\n",
    "    acc_log.append(acc)\n",
    "\n",
    "\n",
    "time_elapsed = time.time()-since\n",
    "print('Training complete in {:.0f}m {:.0f}s'.format(time_elapsed // 60, time_elapsed % 60))\n",
    "\n",
    "plt.plot(acc_log)"
   ]
  },
  {
   "cell_type": "markdown",
   "metadata": {},
   "source": [
    "发现换成ReLU后的网络训练的更快，这是符合直觉的，毕竟PReLU多了一个参数。此外，ReLU的准确率比PReLU更高，可能是因为我没有实现原文中的 momentum method 更新PReLU 的参数，但是我又试了下把PReLU换成 pytorch 自带的版本，依旧不如直接用ReLU好，可能在 mnist 这种简单的数据集上 PReLU 本身就不如 ReLU 表现好。"
   ]
  },
  {
   "cell_type": "code",
   "execution_count": null,
   "metadata": {},
   "outputs": [],
   "source": []
  }
 ],
 "metadata": {
  "kernelspec": {
   "display_name": "Python 3",
   "language": "python",
   "name": "python3"
  },
  "language_info": {
   "codemirror_mode": {
    "name": "ipython",
    "version": 3
   },
   "file_extension": ".py",
   "mimetype": "text/x-python",
   "name": "python",
   "nbconvert_exporter": "python",
   "pygments_lexer": "ipython3",
   "version": "3.6.5"
  }
 },
 "nbformat": 4,
 "nbformat_minor": 2
}
